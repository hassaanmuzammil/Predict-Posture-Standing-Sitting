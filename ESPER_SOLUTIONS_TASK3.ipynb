{
 "cells": [
  {
   "cell_type": "code",
   "execution_count": 1,
   "id": "ce97c61f",
   "metadata": {},
   "outputs": [],
   "source": [
    "coordinates_sitting = [[('head_top', 0.5059929494712103, 0.12907608695652173), ('upper_neck', 0.4580493537015276, 0.27309782608695654), ('right_shoulder', 0.4620446533490012, 0.32472826086956524), ('right_elbow', 0.5299647473560516, 0.47146739130434784), ('right_wrist', 0.7257344300822562, 0.5448369565217391), ('thorax', 0.4460634547591069, 0.31929347826086957), ('left_shoulder', 0.42608695652173917, 0.31657608695652173), ('left_elbow', 0.5019976498237368, 0.44972826086956524), ('left_wrist', 0.6897767332549941, 0.53125), ('pelvis', 0.4660399529964747, 0.561141304347826), ('right_hip', 0.4620446533490012, 0.5720108695652174), ('right_knee', 0.7976498237367803, 0.6100543478260869), ('right_ankle', 0.7896592244418331, 0.84375), ('left_hip', 0.47802585193889546, 0.5529891304347826), ('left_knee', 0.7776733254994125, 0.5720108695652174), ('left_ankle', 0.7616921269095182, 0.8057065217391305)]]"
   ]
  },
  {
   "cell_type": "code",
   "execution_count": 2,
   "id": "28796a05",
   "metadata": {},
   "outputs": [],
   "source": [
    "coordinates_standing = [[('head_top', 0.4807192099475554, 0.042119565217391304), ('upper_neck', 0.5247895872102859, 0.19701086956521738), ('right_shoulder', 0.5468247758416512, 0.22418478260869565), ('right_elbow', 0.5413159786838098, 0.3546195652173913), ('right_wrist', 0.4641928184740315, 0.4633152173913043), ('thorax', 0.5413159786838098, 0.2269021739130435), ('left_shoulder', 0.5413159786838098, 0.2269021739130435), ('left_elbow', 0.5468247758416512, 0.35733695652173914), ('left_wrist', 0.43114003552698354, 0.48777173913043476), ('pelvis', 0.5468247758416512, 0.48777173913043476), ('right_hip', 0.5633511673151751, 0.485054347826087), ('right_knee', 0.5523335729994924, 0.686141304347826), ('right_ankle', 0.5688599644730163, 0.8682065217391305), ('left_hip', 0.5358071815259685, 0.48777173913043476), ('left_knee', 0.5578423701573338, 0.6997282608695652), ('left_ankle', 0.5633511673151751, 0.9035326086956522)]]"
   ]
  },
  {
   "cell_type": "code",
   "execution_count": 3,
   "id": "18cf5b84",
   "metadata": {},
   "outputs": [
    {
     "data": {
      "text/plain": [
       "[[('head_top', 0.5059929494712103, 0.12907608695652173),\n",
       "  ('upper_neck', 0.4580493537015276, 0.27309782608695654),\n",
       "  ('right_shoulder', 0.4620446533490012, 0.32472826086956524),\n",
       "  ('right_elbow', 0.5299647473560516, 0.47146739130434784),\n",
       "  ('right_wrist', 0.7257344300822562, 0.5448369565217391),\n",
       "  ('thorax', 0.4460634547591069, 0.31929347826086957),\n",
       "  ('left_shoulder', 0.42608695652173917, 0.31657608695652173),\n",
       "  ('left_elbow', 0.5019976498237368, 0.44972826086956524),\n",
       "  ('left_wrist', 0.6897767332549941, 0.53125),\n",
       "  ('pelvis', 0.4660399529964747, 0.561141304347826),\n",
       "  ('right_hip', 0.4620446533490012, 0.5720108695652174),\n",
       "  ('right_knee', 0.7976498237367803, 0.6100543478260869),\n",
       "  ('right_ankle', 0.7896592244418331, 0.84375),\n",
       "  ('left_hip', 0.47802585193889546, 0.5529891304347826),\n",
       "  ('left_knee', 0.7776733254994125, 0.5720108695652174),\n",
       "  ('left_ankle', 0.7616921269095182, 0.8057065217391305)]]"
      ]
     },
     "execution_count": 3,
     "metadata": {},
     "output_type": "execute_result"
    }
   ],
   "source": [
    "coordinates = coordinates_sitting\n",
    "#coordinates = coordinates_standing\n",
    "coordinates"
   ]
  },
  {
   "cell_type": "code",
   "execution_count": 4,
   "id": "46344fc5",
   "metadata": {},
   "outputs": [],
   "source": [
    "import math\n",
    "import matplotlib.pyplot as plt\n",
    "\n",
    "def getAngle(a, b, c):\n",
    "    ang = math.degrees(math.atan2(c[1]-b[1], c[0]-b[0]) - math.atan2(a[1]-b[1], a[0]-b[0]))\n",
    "    return ang + 360 if ang < 0 else ang\n",
    "\n",
    "def get_posture(coordinates, show=True):\n",
    "\n",
    "    for coordinate in coordinates:\n",
    "        coordinate_dict = {}\n",
    "        for body_part,x,y in coordinate:\n",
    "            coordinate_dict[body_part] = (x,y)\n",
    "\n",
    "        if show:\n",
    "            \n",
    "            plt.figure(figsize=(10,5))\n",
    "\n",
    "            plt.subplot(1,2,1)\n",
    "            plt.xlim([0,1])\n",
    "            plt.ylim([0,1])\n",
    "            plt.scatter(coordinate_dict['left_hip'][0],coordinate_dict['left_hip'][1],label='Left Hip')\n",
    "            plt.scatter(coordinate_dict['left_knee'][0],coordinate_dict['left_knee'][1],label='Left Knee')\n",
    "            plt.scatter(coordinate_dict['left_ankle'][0],coordinate_dict['left_ankle'][1],label='Left Ankle')\n",
    "            plt.legend()  \n",
    "            plt.title('Left Leg')\n",
    "\n",
    "            plt.subplot(1,2,2)\n",
    "            plt.xlim([0,1])\n",
    "            plt.ylim([0,1])\n",
    "            plt.scatter(coordinate_dict['right_hip'][0],coordinate_dict['right_hip'][1],label='Right Hip')\n",
    "            plt.scatter(coordinate_dict['right_knee'][0],coordinate_dict['right_knee'][1],label='Right Knee')\n",
    "            plt.scatter(coordinate_dict['right_ankle'][0],coordinate_dict['right_ankle'][1],label='Right Ankle')\n",
    "            plt.legend()  \n",
    "            plt.title('Right Leg')\n",
    "\n",
    "            plt.suptitle('Visualizing Hip, Knee, Ankle Points')\n",
    "\n",
    "            plt.show()\n",
    "\n",
    "        left_angle = getAngle(coordinate_dict['left_hip'],coordinate_dict['left_knee'],coordinate_dict['left_ankle'])\n",
    "        right_angle = getAngle(coordinate_dict['right_hip'],coordinate_dict['right_knee'],coordinate_dict['right_ankle'])\n",
    "        angle = (abs(left_angle) + abs(right_angle)) / 2\n",
    "        \n",
    "        print('\\n===================Predicting Posture========================')\n",
    "        print('Angle formed by hips, knees and ankles: ',angle)\n",
    "\n",
    "        minimum = 10000\n",
    "        index = 0\n",
    "        for i in range(5):\n",
    "            if abs(angle - 90 * i) < minimum:\n",
    "                minimum = abs(angle - 90 * i)\n",
    "                index = i\n",
    "        #print(minimum, index)\n",
    "        if minimum > 30:\n",
    "            posture = 'Unknown'\n",
    "            print('Infered Posture from above angle: Unknown')\n",
    "        else:\n",
    "            if index % 2 == 0:\n",
    "                posture = 'Standing'\n",
    "                print('Infered Posture from above angle: Standing')\n",
    "            if index % 2 != 0:\n",
    "                posture = 'Sitting'\n",
    "                print('Infered Posture from above angle: Sitting')\n",
    "                \n",
    "        print('==============================================================')\n",
    "\n",
    "        return posture"
   ]
  },
  {
   "cell_type": "code",
   "execution_count": 5,
   "id": "b97339c7",
   "metadata": {},
   "outputs": [
    {
     "data": {
      "image/png": "[encoded data removed]",
      "text/plain": [
       "<Figure size 720x360 with 2 Axes>"
      ]
     },
     "metadata": {
      "needs_background": "light"
     },
     "output_type": "display_data"
    },
    {
     "name": "stdout",
     "output_type": "stream",
     "text": [
      "\n",
      "===================Predicting Posture========================\n",
      "Angle formed by hips, knees and ankles:  267.8853860392155\n",
      "Infered Posture from above angle: Sitting\n",
      "==============================================================\n"
     ]
    },
    {
     "data": {
      "text/plain": [
       "'Sitting'"
      ]
     },
     "execution_count": 5,
     "metadata": {},
     "output_type": "execute_result"
    }
   ],
   "source": [
    "get_posture(coordinates)"
   ]
  },
  {
   "cell_type": "code",
   "execution_count": null,
   "id": "e39444ba",
   "metadata": {},
   "outputs": [],
   "source": []
  }
 ],
 "metadata": {
  "kernelspec": {
   "display_name": "Python 3",
   "language": "python",
   "name": "python3"
  },
  "language_info": {
   "codemirror_mode": {
    "name": "ipython",
    "version": 3
   },
   "file_extension": ".py",
   "mimetype": "text/x-python",
   "name": "python",
   "nbconvert_exporter": "python",
   "pygments_lexer": "ipython3",
   "version": "3.7.4"
  }
 },
 "nbformat": 4,
 "nbformat_minor": 5
}
